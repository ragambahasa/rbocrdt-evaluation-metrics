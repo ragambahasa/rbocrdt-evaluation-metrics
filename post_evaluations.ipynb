{
 "cells": [
  {
   "cell_type": "code",
   "execution_count": null,
   "metadata": {},
   "outputs": [],
   "source": [
    "import os\n",
    "import re\n",
    "import jellyfish\n",
    "import pandas as pd\n",
    "from jiwer import wer, cer, mer\n",
    "from datetime import datetime"
   ]
  },
  {
   "cell_type": "code",
   "execution_count": null,
   "metadata": {},
   "outputs": [],
   "source": [
    "def compile_dataset(gt_dir, engine_dir, **kwargs):\n",
    "\n",
    "    gt_listdir = os.listdir(gt_dir)\n",
    "    gt_dataset = [ os.path.join(gt_dir, d) for d in gt_listdir ]\n",
    "\n",
    "    engine_listdir = os.listdir(engine_dir)\n",
    "    engine_dataset = [ os.path.join(engine_dir, d) for d in engine_listdir ]\n",
    "\n",
    "    gt_texts = []\n",
    "    for gt in gt_dataset:\n",
    "        with open(gt, \"r\") as f:\n",
    "            filename = os.path.basename(gt)\n",
    "            text = f.read()\n",
    "            gt_texts.append({\"entry_name\": filename.split(\".\")[0], \"filename\": gt, \"text_gt\": text})\n",
    "\n",
    "\n",
    "    engine_texts = []\n",
    "    for engine in engine_dataset:\n",
    "        with open(engine, \"r\") as f:\n",
    "            filename = os.path.basename(engine)\n",
    "            text = f.read()\n",
    "            engine_texts.append({\"entry_name\": filename.split(\".\")[0], \"filename\": engine, \"text_engine\": text})\n",
    "    \n",
    "    \n",
    "    gtdf = pd.DataFrame(gt_texts)\n",
    "    gtdf = gtdf.sort_values(by=['entry_name'])\n",
    "    \n",
    "    enginedf = pd.DataFrame(engine_texts)\n",
    "    enginedf = enginedf.sort_values(by=['entry_name'])\n",
    "\n",
    "    df = pd.merge(gtdf, enginedf, on=['entry_name'], suffixes=['_gt', '_engine'])\n",
    "    df = df.sort_index(axis=1)\n",
    "\n",
    "    if kwargs.get('export'):\n",
    "\n",
    "        if not os.path.exists(kwargs['export']):\n",
    "            os.makedirs(kwargs['export'])\n",
    "\n",
    "        filename = f\"compiled_data_{datetime.strftime(datetime.now(), '%Y%m%d-%H%M%S')}.csv\"\n",
    "        filename = os.path.join(kwargs['export'], filename)\n",
    "        df.to_csv(filename, sep=\";\")\n",
    "\n",
    "\n",
    "    return df\n",
    "\n",
    "def evaluation_metrics(df, **kwargs):\n",
    "    df['max_len'] = df.apply(lambda x: max(tuple((len(x['text_engine']), len(x['text_gt'])))), axis=1)\n",
    "    df['levd'] = df.apply(lambda x: jellyfish.levenshtein_distance(x['text_engine'], x['text_gt']), axis=1)\n",
    "    # df['levd_wer'] = df.apply(lambda x: 1-x['levd']/len(x['text_gt']), axis=1)\n",
    "    df['levd_score'] = df.apply(lambda x: 1-x['levd']/x['max_len'], axis=1)\n",
    "\n",
    "    df['wer'] = df.apply(lambda x: 1-wer(x['text_gt'], x['text_engine']), axis=1)\n",
    "    df['cer'] = df.apply(lambda x: 1-cer(x['text_gt'], x['text_engine']), axis=1)\n",
    "    df['mer'] = df.apply(lambda x: 1-mer(x['text_gt'], x['text_engine']), axis=1)\n",
    "\n",
    "    if kwargs.get('export'):\n",
    "\n",
    "        if not os.path.exists(kwargs['export']):\n",
    "            os.makedirs(kwargs['export'])\n",
    "\n",
    "        filename = f\"eval_data_{datetime.strftime(datetime.now(), '%Y%m%d-%H%M%S')}.csv\"\n",
    "        filename = os.path.join(kwargs['export'], filename)\n",
    "        df.to_csv(filename, sep=\";\")\n",
    "\n",
    "    return df"
   ]
  },
  {
   "cell_type": "markdown",
   "metadata": {},
   "source": [
    "## How to use:\n",
    "\n",
    "This is script for evaluating OCR post-correction text againts Human annotated text as the ground truth, adjusted. "
   ]
  },
  {
   "cell_type": "markdown",
   "metadata": {},
   "source": [
    "#### 3-easy-Steps:  \n",
    "\n",
    "- **First**, make sure you know where you store your dataset and make sure they are in the .txt file format.\n",
    "- **Second**, define each directory names on `groundtruth_dir` and `postocr_dir` respectively.\n",
    "- **Second (optional)**, you can export your works by defining `export` argument on each function you'll see below, and you can freely define your directory by passing value on `export` args.  "
   ]
  },
  {
   "cell_type": "code",
   "execution_count": null,
   "metadata": {},
   "outputs": [],
   "source": [
    "# Define your ground-truth and post-ocr file collection directory \n",
    "groundtruth_dir = \"testset/Balinese/raw/Balinese_texts_ann\"\n",
    "postocr_dir = \"testset/Balinese/raw/Balinese_texts_ots\"\n",
    "\n",
    "# you can ignore the rest of the script\n",
    "compiled = compile_dataset(gt_dir=groundtruth_dir, engine_dir=postocr_dir)\n",
    "evaluate = evaluation_metrics(df=compiled, export=\"balinese_res\")\n",
    "\n",
    "evaluate"
   ]
  }
 ],
 "metadata": {
  "kernelspec": {
   "display_name": "ace_exp",
   "language": "python",
   "name": "python3"
  },
  "language_info": {
   "codemirror_mode": {
    "name": "ipython",
    "version": 3
   },
   "file_extension": ".py",
   "mimetype": "text/x-python",
   "name": "python",
   "nbconvert_exporter": "python",
   "pygments_lexer": "ipython3",
   "version": "3.10.14"
  }
 },
 "nbformat": 4,
 "nbformat_minor": 2
}

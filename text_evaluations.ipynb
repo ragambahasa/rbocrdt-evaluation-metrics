{
 "cells": [
  {
   "cell_type": "code",
   "execution_count": 4,
   "metadata": {},
   "outputs": [],
   "source": [
    "import os\n",
    "import re\n",
    "import jellyfish\n",
    "import pandas as pd\n",
    "from jiwer import wer, cer, mer\n",
    "from datetime import datetime"
   ]
  },
  {
   "cell_type": "code",
   "execution_count": 5,
   "metadata": {},
   "outputs": [],
   "source": [
    "def compile_dataset(dataset_dir, ann_suffix=\"ann\", ots_suffix=\"ots\", **kwargs):\n",
    "\n",
    "    listdir = os.listdir(dataset_dir)\n",
    "    \n",
    "    ann_dataset = [ os.path.join(dataset_dir, d) for d in listdir if \".{0}\".format(re.sub('[\\W_]+', '', ann_suffix)) in d ]\n",
    "    ots_dataset = [ os.path.join(dataset_dir, d) for d in listdir if \".{0}\".format(re.sub('[\\W_]+', '', ots_suffix)) in d ]\n",
    "\n",
    "    ann_texts = []\n",
    "    for ann in ann_dataset:\n",
    "        with open(ann, \"r\") as f:\n",
    "            filename = os.path.basename(ann)\n",
    "            text = f.read()\n",
    "            ann_texts.append({\"entry_name\": filename.split(\".\")[0], \"filename\": filename, \"text_ann\": text})\n",
    "\n",
    "\n",
    "    ots_texts = []\n",
    "    for ots in ots_dataset:\n",
    "        with open(ots, \"r\") as f:\n",
    "            filename = os.path.basename(ots)\n",
    "            text = f.read()\n",
    "            ots_texts.append({\"entry_name\": filename.split(\".\")[0], \"filename\": filename, \"text_ots\": text})\n",
    "    \n",
    "    anndf = pd.DataFrame(ann_texts)\n",
    "    anndf = anndf.sort_values(by=['entry_name'])\n",
    "    otsdf = pd.DataFrame(ots_texts)\n",
    "    otsdf = otsdf.sort_values(by=['entry_name'])\n",
    "\n",
    "    df = pd.merge(anndf, otsdf, on=['entry_name'], suffixes=['_ann', '_ots'])\n",
    "    df = df.sort_index(axis=1)\n",
    "\n",
    "    if kwargs.get('export'):\n",
    "\n",
    "        if not os.path.exists(kwargs['export']):\n",
    "            os.makedirs(kwargs['export'])\n",
    "\n",
    "        filename = f\"compiled_data_{datetime.strftime(datetime.now(), '%Y%m%d-%H%M%S')}.csv\"\n",
    "        filename = os.path.join(kwargs['export'], filename)\n",
    "        df.to_csv(filename, sep=\";\")\n",
    "\n",
    "    return df\n",
    "\n",
    "def evaluation_metrics(df, **kwargs):\n",
    "    df['max_len'] = df.apply(lambda x: max(tuple((len(x['text_ots']), len(x['text_ann'])))), axis=1)\n",
    "    df['levd'] = df.apply(lambda x: jellyfish.levenshtein_distance(x['text_ots'], x['text_ann']), axis=1)\n",
    "    # df['levd_wer'] = df.apply(lambda x: 1-x['levd']/len(x['text_ann']), axis=1)\n",
    "    df['levd_score'] = df.apply(lambda x: 1-x['levd']/x['max_len'], axis=1)\n",
    "\n",
    "    df['wer'] = df.apply(lambda x: 1-wer(x['text_ann'], x['text_ots']), axis=1)\n",
    "    df['cer'] = df.apply(lambda x: 1-cer(x['text_ann'], x['text_ots']), axis=1)\n",
    "    df['mer'] = df.apply(lambda x: 1-mer(x['text_ann'], x['text_ots']), axis=1)\n",
    "\n",
    "    if kwargs.get('export'):\n",
    "\n",
    "        if not os.path.exists(kwargs['export']):\n",
    "            os.makedirs(kwargs['export'])\n",
    "\n",
    "        filename = f\"eval_data_{datetime.strftime(datetime.now(), '%Y%m%d-%H%M%S')}.csv\"\n",
    "        filename = os.path.join(kwargs['export'], filename)\n",
    "        df.to_csv(filename, sep=\";\")\n",
    "\n",
    "    return df"
   ]
  },
  {
   "cell_type": "markdown",
   "metadata": {},
   "source": [
    "## How to use:\n",
    "\n",
    "This is script for evaluating OCR extracted text againts Human annotated text as the ground truth. It uses Raw file input (please see `dataset/raw` folder within this repository). This script will try to find which files identified as human annotation (`.ann`) and which identified as machine extraction content (`.ots`).\n",
    "\n",
    "_*ots means off-the-shelf, but you can use this script to evaluate post-processed OCR extracted text_"
   ]
  },
  {
   "cell_type": "markdown",
   "metadata": {},
   "source": [
    "#### 3-easy-Steps:  \n",
    "\n",
    "- **First**, make sure you know where you store your dataset and make sure on the same folder/directory the file format was .txt, has `.ann` for human annotated text and `.ots` for machine extracted text (see folder `dataset/raw` for the examples).  \n",
    "- **Second (optional)**, you can export your works by defining `export` argument on each function you'll see below.  "
   ]
  },
  {
   "cell_type": "code",
   "execution_count": 6,
   "metadata": {},
   "outputs": [],
   "source": [
    "# You can freely define your own dataset location, \n",
    "# make sure you have .ann and .ots on the sampe places \n",
    "# just like what we've done on 'dataset/raw' folder within this repository\n",
    "language_name = \"balinese\"\n",
    "dataset_dirname = f\"dataset/raw/{language_name}\"\n",
    "\n",
    "# you can ignore the rest of the script\n",
    "compiled = compile_dataset(dataset_dir=dataset_dirname, export=\"compiled\")\n",
    "evaluate = evaluation_metrics(df=compiled, export=\"result\")"
   ]
  }
 ],
 "metadata": {
  "kernelspec": {
   "display_name": "ace_exp",
   "language": "python",
   "name": "python3"
  },
  "language_info": {
   "codemirror_mode": {
    "name": "ipython",
    "version": 3
   },
   "file_extension": ".py",
   "mimetype": "text/x-python",
   "name": "python",
   "nbconvert_exporter": "python",
   "pygments_lexer": "ipython3",
   "version": "3.10.14"
  }
 },
 "nbformat": 4,
 "nbformat_minor": 2
}
